{
 "cells": [
  {
   "cell_type": "code",
   "execution_count": 1,
   "metadata": {},
   "outputs": [],
   "source": [
    "import cv2\n",
    "\n"
   ]
  },
  {
   "cell_type": "code",
   "execution_count": 4,
   "metadata": {},
   "outputs": [
    {
     "data": {
      "text/plain": [
       "array([[[137,  92,  72],\n",
       "        [137,  92,  72],\n",
       "        [135,  90,  71],\n",
       "        ...,\n",
       "        [133,  91,  73],\n",
       "        [133,  90,  71],\n",
       "        [134,  91,  72]],\n",
       "\n",
       "       [[137,  93,  73],\n",
       "        [137,  93,  73],\n",
       "        [137,  92,  73],\n",
       "        ...,\n",
       "        [135,  93,  76],\n",
       "        [134,  92,  73],\n",
       "        [134,  92,  73]],\n",
       "\n",
       "       [[139,  94,  74],\n",
       "        [139,  94,  74],\n",
       "        [138,  93,  73],\n",
       "        ...,\n",
       "        [135,  93,  73],\n",
       "        [135,  93,  73],\n",
       "        [135,  93,  73]],\n",
       "\n",
       "       ...,\n",
       "\n",
       "       [[ 45,  42,  41],\n",
       "        [ 45,  43,  42],\n",
       "        [ 45,  42,  41],\n",
       "        ...,\n",
       "        [ 46,  43,  43],\n",
       "        [ 47,  44,  43],\n",
       "        [ 46,  43,  43]],\n",
       "\n",
       "       [[ 44,  41,  41],\n",
       "        [ 44,  42,  41],\n",
       "        [ 44,  41,  41],\n",
       "        ...,\n",
       "        [ 46,  43,  42],\n",
       "        [ 46,  43,  43],\n",
       "        [ 46,  43,  42]],\n",
       "\n",
       "       [[ 44,  41,  40],\n",
       "        [ 44,  41,  40],\n",
       "        [ 44,  41,  41],\n",
       "        ...,\n",
       "        [ 45,  42,  42],\n",
       "        [ 45,  42,  41],\n",
       "        [ 46,  43,  43]]], dtype=uint8)"
      ]
     },
     "execution_count": 4,
     "metadata": {},
     "output_type": "execute_result"
    }
   ],
   "source": [
    "image = cv2.imread(r'.\\train_images\\2024-06-16 01-09-32.png')\n",
    "image"
   ]
  },
  {
   "cell_type": "code",
   "execution_count": 5,
   "metadata": {},
   "outputs": [
    {
     "data": {
      "text/plain": [
       "(64, 128, 3)"
      ]
     },
     "execution_count": 5,
     "metadata": {},
     "output_type": "execute_result"
    }
   ],
   "source": [
    "image.shape"
   ]
  }
 ],
 "metadata": {
  "kernelspec": {
   "display_name": "Python 3",
   "language": "python",
   "name": "python3"
  },
  "language_info": {
   "codemirror_mode": {
    "name": "ipython",
    "version": 3
   },
   "file_extension": ".py",
   "mimetype": "text/x-python",
   "name": "python",
   "nbconvert_exporter": "python",
   "pygments_lexer": "ipython3",
   "version": "3.9.5"
  }
 },
 "nbformat": 4,
 "nbformat_minor": 2
}

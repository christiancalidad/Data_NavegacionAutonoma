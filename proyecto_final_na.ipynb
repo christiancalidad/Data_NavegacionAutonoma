{
  "cells": [
    {
      "cell_type": "markdown",
      "metadata": {
        "id": "J5pojlc23Dm9"
      },
      "source": [
        "# **Codigo Capitulo 10**"
      ]
    },
    {
      "cell_type": "markdown",
      "metadata": {
        "id": "T6-uJ0muoHR7"
      },
      "source": [
        "# **Entrenamiento de modelo con imagenes de Webots**"
      ]
    },
    {
      "cell_type": "markdown",
      "metadata": {},
      "source": [
        "### Importación de librerías"
      ]
    },
    {
      "cell_type": "code",
      "execution_count": 1,
      "metadata": {
        "id": "kpZ8bQBaoOPz"
      },
      "outputs": [
        {
          "name": "stderr",
          "output_type": "stream",
          "text": [
            "c:\\Users\\chris\\AppData\\Local\\Programs\\Python\\Python39\\lib\\site-packages\\scipy\\__init__.py:177: UserWarning: A NumPy version >=1.18.5 and <1.26.0 is required for this version of SciPy (detected version 1.26.4\n",
            "  warnings.warn(f\"A NumPy version >={np_minversion} and <{np_maxversion}\"\n"
          ]
        }
      ],
      "source": [
        "import numpy as np\n",
        "import matplotlib.pyplot as plt\n",
        "from keras.models import Sequential\n",
        "from keras.optimizers import Adam\n",
        "from keras.layers import Convolution2D, MaxPooling2D, Dropout, Flatten, Dense\n",
        "import cv2\n",
        "import pandas as pd\n",
        "import random\n",
        "from sklearn.model_selection import train_test_split\n",
        "import matplotlib.image as mpimg\n",
        "import matplotlib.pyplot as plt\n",
        "import numpy as np\n"
      ]
    },
    {
      "cell_type": "markdown",
      "metadata": {},
      "source": [
        "### Lectura del data set"
      ]
    },
    {
      "cell_type": "markdown",
      "metadata": {},
      "source": [
        "Se lee el data set que se construyó realizando conducción manual con un Time step de 100  a una velocidad de 20 km."
      ]
    },
    {
      "cell_type": "code",
      "execution_count": 2,
      "metadata": {
        "colab": {
          "base_uri": "https://localhost:8080/",
          "height": 241
        },
        "id": "sI5rPxJZrbQA",
        "outputId": "87dd6c77-6139-4126-bac8-25a7a12013b6"
      },
      "outputs": [
        {
          "name": "stdout",
          "output_type": "stream",
          "text": [
            "(36013, 3)\n",
            "36013\n"
          ]
        },
        {
          "data": {
            "text/html": [
              "<div>\n",
              "<style scoped>\n",
              "    .dataframe tbody tr th:only-of-type {\n",
              "        vertical-align: middle;\n",
              "    }\n",
              "\n",
              "    .dataframe tbody tr th {\n",
              "        vertical-align: top;\n",
              "    }\n",
              "\n",
              "    .dataframe thead th {\n",
              "        text-align: right;\n",
              "    }\n",
              "</style>\n",
              "<table border=\"1\" class=\"dataframe\">\n",
              "  <thead>\n",
              "    <tr style=\"text-align: right;\">\n",
              "      <th></th>\n",
              "      <th>Image Name</th>\n",
              "      <th>Angle</th>\n",
              "      <th>Angle2</th>\n",
              "      <th>image_path</th>\n",
              "    </tr>\n",
              "  </thead>\n",
              "  <tbody>\n",
              "    <tr>\n",
              "      <th>0</th>\n",
              "      <td>2024-06-22 19-49-32-443107.png</td>\n",
              "      <td>0.0</td>\n",
              "      <td>0</td>\n",
              "      <td>./train_images2/2024-06-22 19-49-32-443107.png</td>\n",
              "    </tr>\n",
              "    <tr>\n",
              "      <th>1</th>\n",
              "      <td>2024-06-22 19-49-32-550578.png</td>\n",
              "      <td>0.0</td>\n",
              "      <td>0</td>\n",
              "      <td>./train_images2/2024-06-22 19-49-32-550578.png</td>\n",
              "    </tr>\n",
              "    <tr>\n",
              "      <th>2</th>\n",
              "      <td>2024-06-22 19-49-32-634905.png</td>\n",
              "      <td>0.0</td>\n",
              "      <td>0</td>\n",
              "      <td>./train_images2/2024-06-22 19-49-32-634905.png</td>\n",
              "    </tr>\n",
              "    <tr>\n",
              "      <th>3</th>\n",
              "      <td>2024-06-22 19-49-32-718367.png</td>\n",
              "      <td>0.0</td>\n",
              "      <td>0</td>\n",
              "      <td>./train_images2/2024-06-22 19-49-32-718367.png</td>\n",
              "    </tr>\n",
              "    <tr>\n",
              "      <th>4</th>\n",
              "      <td>2024-06-22 19-49-32-785890.png</td>\n",
              "      <td>0.0</td>\n",
              "      <td>0</td>\n",
              "      <td>./train_images2/2024-06-22 19-49-32-785890.png</td>\n",
              "    </tr>\n",
              "  </tbody>\n",
              "</table>\n",
              "</div>"
            ],
            "text/plain": [
              "                       Image Name  Angle  Angle2  \\\n",
              "0  2024-06-22 19-49-32-443107.png    0.0       0   \n",
              "1  2024-06-22 19-49-32-550578.png    0.0       0   \n",
              "2  2024-06-22 19-49-32-634905.png    0.0       0   \n",
              "3  2024-06-22 19-49-32-718367.png    0.0       0   \n",
              "4  2024-06-22 19-49-32-785890.png    0.0       0   \n",
              "\n",
              "                                       image_path  \n",
              "0  ./train_images2/2024-06-22 19-49-32-443107.png  \n",
              "1  ./train_images2/2024-06-22 19-49-32-550578.png  \n",
              "2  ./train_images2/2024-06-22 19-49-32-634905.png  \n",
              "3  ./train_images2/2024-06-22 19-49-32-718367.png  \n",
              "4  ./train_images2/2024-06-22 19-49-32-785890.png  "
            ]
          },
          "execution_count": 2,
          "metadata": {},
          "output_type": "execute_result"
        }
      ],
      "source": [
        "image_data = pd.read_csv('image_data2.csv')\n",
        "print(image_data.shape)\n",
        "print(image_data['Image Name'].nunique())\n",
        "image_data['image_path'] = './train_images2/' + image_data['Image Name']\n",
        "image_paths_wb = image_data['image_path'].values\n",
        "steerings_wb = image_data['Angle'].values\n",
        "image_data.head()"
      ]
    },
    {
      "cell_type": "markdown",
      "metadata": {},
      "source": [
        "### Análisis de la distribución del data set"
      ]
    },
    {
      "cell_type": "code",
      "execution_count": 3,
      "metadata": {
        "colab": {
          "base_uri": "https://localhost:8080/",
          "height": 447
        },
        "id": "IZKMaiIm3mDZ",
        "outputId": "76d9bbab-f5c1-4752-a98f-4d3cbeadaea3"
      },
      "outputs": [
        {
          "data": {
            "text/plain": [
              "[<matplotlib.lines.Line2D at 0x1c859915c10>]"
            ]
          },
          "execution_count": 3,
          "metadata": {},
          "output_type": "execute_result"
        },
        {
          "data": {
            "image/png": "[encoded data removed]",
            "text/plain": [
              "<Figure size 640x480 with 1 Axes>"
            ]
          },
          "metadata": {},
          "output_type": "display_data"
        }
      ],
      "source": [
        "## Creamos un histograma de 50 bins con base en el ángulo de giro\n",
        "num_bins = 50\n",
        "hist, bins = np.histogram(image_data['Angle'], num_bins)\n",
        "center = (bins[:-1]+ bins[1:]) * 0.5\n",
        "plt.bar(center, hist, width=0.05)\n",
        "plt.plot((np.min(image_data['Angle']), np.max(image_data['Angle'])))"
      ]
    },
    {
      "cell_type": "markdown",
      "metadata": {},
      "source": [
        "Como vemos en la imagen anterior, el data set se encuentra desbalanceado dado que casi todos sus valores de ángulo de conducción están cerca de 0. Buscado que nuestro modelo sea bueno también prediciendo ángulos un poco más grandes vamos a balancear el data set. Para esto realizaremos un sampling del data set original, buscando que los ángulos más alejados del 0 tengan una mayor probabilidad de ser tomados."
      ]
    },
    {
      "cell_type": "code",
      "execution_count": 4,
      "metadata": {},
      "outputs": [],
      "source": [
        "def calculate_sampling_probability(angle):\n",
        "    return np.abs(angle) + 0.01  # Añadir un pequeño valor para que 0 tenga una probabilidad mayor a 0\n",
        "\n",
        "# Calcular las probabilidades\n",
        "image_data['sampling_prob'] = image_data['Angle'].apply(calculate_sampling_probability)\n",
        "\n",
        "# Normalizar las probabilidades para que sumen 1\n",
        "total_prob = image_data['sampling_prob'].sum()\n",
        "image_data['sampling_prob'] /= total_prob\n",
        "\n",
        "# Realizar el muestreo basado en las probabilidades calculadas\n",
        "sampled_df = image_data.sample(frac=0.4, weights='sampling_prob', random_state=1)\n",
        "\n",
        "# Se remueve la columna adicional generada para el sampling\n",
        "sampled_df = sampled_df.drop(columns=['sampling_prob'])\n",
        "\n",
        "# Resetear el índice del DataFrame resultante si es necesario\n",
        "sampled_df = sampled_df.reset_index(drop=True)"
      ]
    },
    {
      "cell_type": "code",
      "execution_count": 5,
      "metadata": {},
      "outputs": [],
      "source": [
        "image_data = sampled_df"
      ]
    },
    {
      "cell_type": "markdown",
      "metadata": {},
      "source": [
        "Graficamos nuevamente el data set por medio de un histrograma"
      ]
    },
    {
      "cell_type": "code",
      "execution_count": 6,
      "metadata": {},
      "outputs": [
        {
          "data": {
            "text/plain": [
              "[<matplotlib.lines.Line2D at 0x1c8599b5070>]"
            ]
          },
          "execution_count": 6,
          "metadata": {},
          "output_type": "execute_result"
        },
        {
          "data": {
            "image/png": "[encoded data removed]",
            "text/plain": [
              "<Figure size 640x480 with 1 Axes>"
            ]
          },
          "metadata": {},
          "output_type": "display_data"
        }
      ],
      "source": [
        "num_bins = 50\n",
        "hist, bins = np.histogram(image_data['Angle'], num_bins)\n",
        "center = (bins[:-1]+ bins[1:]) * 0.5\n",
        "plt.bar(center, hist, width=0.05)\n",
        "plt.plot((np.min(image_data['Angle']), np.max(image_data['Angle'])))"
      ]
    },
    {
      "cell_type": "markdown",
      "metadata": {},
      "source": [
        "Analizando el histograma anterior, podemos evidenciar que la distribución mejoró un poco y ya tenemos un mayor % de datos lejos del ángulo de conducción 0."
      ]
    },
    {
      "cell_type": "code",
      "execution_count": 7,
      "metadata": {
        "colab": {
          "base_uri": "https://localhost:8080/"
        },
        "id": "qwCQZVfZrYoW",
        "outputId": "bdfa9db6-49d3-466c-c917-858ed3ff681a"
      },
      "outputs": [
        {
          "name": "stdout",
          "output_type": "stream",
          "text": [
            "(14405,)\n",
            "(14405,)\n"
          ]
        }
      ],
      "source": [
        "## Creamos un array con las imágenes y otro con los ángulos correspondientes\n",
        "image_paths_wb = image_data['image_path'].values\n",
        "steerings_wb = image_data['Angle'].values\n",
        "print(image_paths_wb.shape)\n",
        "print(steerings_wb.shape )"
      ]
    },
    {
      "cell_type": "markdown",
      "metadata": {},
      "source": [
        "Vemos que quedamos con alrededor de 25.000 imágenes para entrenar nuestro modelo."
      ]
    },
    {
      "cell_type": "markdown",
      "metadata": {},
      "source": [
        "### Construcción de los data sets"
      ]
    },
    {
      "cell_type": "markdown",
      "metadata": {},
      "source": [
        "Dado que tebnemos una gran cantidad de muestras, dejaremos solo el 10% para validación, buscando así contar con una gran cantidad de datos para entrenar la red neuronal."
      ]
    },
    {
      "cell_type": "code",
      "execution_count": 8,
      "metadata": {
        "colab": {
          "base_uri": "https://localhost:8080/"
        },
        "id": "OP6kf3tSq5Jh",
        "outputId": "01446a19-fc1b-4137-dcf7-54b07a15d2fc"
      },
      "outputs": [
        {
          "name": "stdout",
          "output_type": "stream",
          "text": [
            "Training Samples: 12964\n",
            "Valid Samples: 1441\n"
          ]
        }
      ],
      "source": [
        "## Realizamos el split del data set entre entrenamiento y valdiación. Añanimos shuffle para garantizar que las imágenes en ambos data sets sean representativas de todo el circuito\n",
        "X_train, X_valid, y_train, y_valid = train_test_split(image_paths_wb, steerings_wb, test_size=0.1, random_state=6, shuffle=True)\n",
        "print('Training Samples: {}\\nValid Samples: {}'.format(len(X_train), len(X_valid)))"
      ]
    },
    {
      "cell_type": "markdown",
      "metadata": {},
      "source": [
        "Validamos que la dsitribución de los ángulos de conducción sea similar en ambos data sets para que no haya sesgos"
      ]
    },
    {
      "cell_type": "code",
      "execution_count": 9,
      "metadata": {
        "colab": {
          "base_uri": "https://localhost:8080/",
          "height": 408
        },
        "id": "n4PqreHyrj5S",
        "outputId": "ab90f953-38dd-41d6-c46d-8310c42dc58c"
      },
      "outputs": [
        {
          "data": {
            "text/plain": [
              "Text(0.5, 1.0, 'Validation set')"
            ]
          },
          "execution_count": 9,
          "metadata": {},
          "output_type": "execute_result"
        },
        {
          "data": {
            "image/png": "[encoded data removed]",
            "text/plain": [
              "<Figure size 1200x400 with 2 Axes>"
            ]
          },
          "metadata": {},
          "output_type": "display_data"
        }
      ],
      "source": [
        "fig, axes = plt.subplots(1, 2, figsize=(12, 4))\n",
        "axes[0].hist(y_train, bins=num_bins, width=0.05, color='blue')\n",
        "axes[0].set_title('Training set')\n",
        "axes[1].hist(y_valid, bins=num_bins, width=0.05, color='red')\n",
        "axes[1].set_title('Validation set')"
      ]
    },
    {
      "cell_type": "markdown",
      "metadata": {},
      "source": [
        "Decidimos no implementar data augmentation en el modelo final, dado que estaba siendo muy costoso computacionalmente y no estaba incrementando significativamente el desempeño de los modelos"
      ]
    },
    {
      "cell_type": "code",
      "execution_count": 10,
      "metadata": {},
      "outputs": [],
      "source": [
        "list_images_train = [np.expand_dims(mpimg.imread(X_train[i]),axis=-1) for i in range(len(X_train))]\n",
        "list_images_valid = [np.expand_dims(mpimg.imread(X_valid[i]),axis=-1) for i in range(len(X_valid))]"
      ]
    },
    {
      "cell_type": "markdown",
      "metadata": {},
      "source": [
        "### Elaboración del generador de bachts"
      ]
    },
    {
      "cell_type": "code",
      "execution_count": 11,
      "metadata": {
        "id": "NXHS6X-ZxHVR"
      },
      "outputs": [],
      "source": [
        "def batch_generator_wb(list_images, steering_ang, batch_size, istraining):\n",
        "    while True:\n",
        "        # se generan dos listas en las que se guardarán las imágenes y los ángulos\n",
        "        batch_img = []\n",
        "        batch_steering = []\n",
        "        # Realizamos un ciclo con base en el número de imágenes a generar en cada batch\n",
        "        for i in range(batch_size):\n",
        "            # Se seleccionan las imágenges y los ángulos aleatoriamente con base en un índice random\n",
        "            random_index = random.randint(0, len(list_images) - 1)\n",
        "            im = list_images[random_index]\n",
        "            steering = steering_ang[random_index]\n",
        "            # Se agregan las imágenes y ángulos selecccionados a la lista\n",
        "            batch_img.append(im)\n",
        "            batch_steering.append(steering)\n",
        "        ## Usamos yield para que funcione como un generador\n",
        "        yield (np.asarray(batch_img), np.asarray(batch_steering))"
      ]
    },
    {
      "cell_type": "markdown",
      "metadata": {},
      "source": [
        "### Creación del modelo"
      ]
    },
    {
      "cell_type": "markdown",
      "metadata": {},
      "source": [
        "Creamos la arquitectura del modelo convolucional basados en el Nvidia Model. Realizando las siguiente consideraciones:\n",
        "- Learnign rate: 0.001. Este valor se obtuvo realizando pruebas entre varios valores y viendo cual generaba los mejores resultados.\n",
        "- Loss: MSE. Usamos el MSE para penalizar más las diferencias más grandes que podrían llevar a que el vehículo se salga de la pista.\n",
        "- Optimizer: ADAM. Usualmente tiene un buen desempeño con este tipo de redes.\n"
      ]
    },
    {
      "cell_type": "code",
      "execution_count": 12,
      "metadata": {
        "id": "FCGXavEgxUbG"
      },
      "outputs": [
        {
          "name": "stderr",
          "output_type": "stream",
          "text": [
            "c:\\Users\\chris\\AppData\\Local\\Programs\\Python\\Python39\\lib\\site-packages\\keras\\src\\layers\\convolutional\\base_conv.py:107: UserWarning: Do not pass an `input_shape`/`input_dim` argument to a layer. When using Sequential models, prefer using an `Input(shape)` object as the first layer in the model instead.\n",
            "  super().__init__(activity_regularizer=activity_regularizer, **kwargs)\n"
          ]
        }
      ],
      "source": [
        "import tensorflow as tf\n",
        "from tensorflow.keras.models import Sequential\n",
        "from tensorflow.keras.layers import Conv2D, Flatten, Dense\n",
        "from tensorflow.keras.optimizers import Adam\n",
        "\n",
        "## NVIDIA Model\n",
        "model = Sequential()\n",
        "model.add(Conv2D(24, (5, 5), strides=(2, 2), input_shape=(66, 200, 4), activation='elu'))\n",
        "model.add(Conv2D(36, (5, 5), strides=(2, 2), activation='elu'))\n",
        "model.add(Conv2D(48, (5, 5), strides=(2, 2), activation='elu'))\n",
        "model.add(Conv2D(64, (3, 3), activation='elu'))\n",
        "model.add(Conv2D(64, (3, 3), activation='elu'))\n",
        "model.add(Dropout(0.4))\n",
        "model.add(Flatten())\n",
        "model.add(Dense(100, activation='elu'))\n",
        "model.add(Dense(50, activation='elu'))\n",
        "model.add(Dense(10, activation='elu'))\n",
        "model.add(Dense(1))\n",
        "\n",
        "optimizer = Adam(learning_rate=0.0005) # Este valor se obtuvo realizando pruebas entre varios valores y viendo cual generaba los mejores resultados\n",
        "model.compile(loss='mse', optimizer=optimizer) # Usamos el MSE para penalizar más las diferencias más grandes que podrían llevar a que el vehí"
      ]
    },
    {
      "cell_type": "code",
      "execution_count": 13,
      "metadata": {
        "colab": {
          "base_uri": "https://localhost:8080/"
        },
        "id": "H328gcmVxYlP",
        "outputId": "cc8dc9eb-e6b8-4991-eb49-6158955908d3"
      },
      "outputs": [
        {
          "data": {
            "text/html": [
              "<pre style=\"white-space:pre;overflow-x:auto;line-height:normal;font-family:Menlo,'DejaVu Sans Mono',consolas,'Courier New',monospace\"><span style=\"font-weight: bold\">Model: \"sequential\"</span>\n",
              "</pre>\n"
            ],
            "text/plain": [
              "\u001b[1mModel: \"sequential\"\u001b[0m\n"
            ]
          },
          "metadata": {},
          "output_type": "display_data"
        },
        {
          "data": {
            "text/html": [
              "<pre style=\"white-space:pre;overflow-x:auto;line-height:normal;font-family:Menlo,'DejaVu Sans Mono',consolas,'Courier New',monospace\">┏━━━━━━━━━━━━━━━━━━━━━━━━━━━━━━━━━┳━━━━━━━━━━━━━━━━━━━━━━━━┳━━━━━━━━━━━━━━━┓\n",
              "┃<span style=\"font-weight: bold\"> Layer (type)                    </span>┃<span style=\"font-weight: bold\"> Output Shape           </span>┃<span style=\"font-weight: bold\">       Param # </span>┃\n",
              "┡━━━━━━━━━━━━━━━━━━━━━━━━━━━━━━━━━╇━━━━━━━━━━━━━━━━━━━━━━━━╇━━━━━━━━━━━━━━━┩\n",
              "│ conv2d (<span style=\"color: #0087ff; text-decoration-color: #0087ff\">Conv2D</span>)                 │ (<span style=\"color: #00d7ff; text-decoration-color: #00d7ff\">None</span>, <span style=\"color: #00af00; text-decoration-color: #00af00\">31</span>, <span style=\"color: #00af00; text-decoration-color: #00af00\">98</span>, <span style=\"color: #00af00; text-decoration-color: #00af00\">24</span>)     │         <span style=\"color: #00af00; text-decoration-color: #00af00\">2,424</span> │\n",
              "├─────────────────────────────────┼────────────────────────┼───────────────┤\n",
              "│ conv2d_1 (<span style=\"color: #0087ff; text-decoration-color: #0087ff\">Conv2D</span>)               │ (<span style=\"color: #00d7ff; text-decoration-color: #00d7ff\">None</span>, <span style=\"color: #00af00; text-decoration-color: #00af00\">14</span>, <span style=\"color: #00af00; text-decoration-color: #00af00\">47</span>, <span style=\"color: #00af00; text-decoration-color: #00af00\">36</span>)     │        <span style=\"color: #00af00; text-decoration-color: #00af00\">21,636</span> │\n",
              "├─────────────────────────────────┼────────────────────────┼───────────────┤\n",
              "│ conv2d_2 (<span style=\"color: #0087ff; text-decoration-color: #0087ff\">Conv2D</span>)               │ (<span style=\"color: #00d7ff; text-decoration-color: #00d7ff\">None</span>, <span style=\"color: #00af00; text-decoration-color: #00af00\">5</span>, <span style=\"color: #00af00; text-decoration-color: #00af00\">22</span>, <span style=\"color: #00af00; text-decoration-color: #00af00\">48</span>)      │        <span style=\"color: #00af00; text-decoration-color: #00af00\">43,248</span> │\n",
              "├─────────────────────────────────┼────────────────────────┼───────────────┤\n",
              "│ conv2d_3 (<span style=\"color: #0087ff; text-decoration-color: #0087ff\">Conv2D</span>)               │ (<span style=\"color: #00d7ff; text-decoration-color: #00d7ff\">None</span>, <span style=\"color: #00af00; text-decoration-color: #00af00\">3</span>, <span style=\"color: #00af00; text-decoration-color: #00af00\">20</span>, <span style=\"color: #00af00; text-decoration-color: #00af00\">64</span>)      │        <span style=\"color: #00af00; text-decoration-color: #00af00\">27,712</span> │\n",
              "├─────────────────────────────────┼────────────────────────┼───────────────┤\n",
              "│ conv2d_4 (<span style=\"color: #0087ff; text-decoration-color: #0087ff\">Conv2D</span>)               │ (<span style=\"color: #00d7ff; text-decoration-color: #00d7ff\">None</span>, <span style=\"color: #00af00; text-decoration-color: #00af00\">1</span>, <span style=\"color: #00af00; text-decoration-color: #00af00\">18</span>, <span style=\"color: #00af00; text-decoration-color: #00af00\">64</span>)      │        <span style=\"color: #00af00; text-decoration-color: #00af00\">36,928</span> │\n",
              "├─────────────────────────────────┼────────────────────────┼───────────────┤\n",
              "│ dropout (<span style=\"color: #0087ff; text-decoration-color: #0087ff\">Dropout</span>)               │ (<span style=\"color: #00d7ff; text-decoration-color: #00d7ff\">None</span>, <span style=\"color: #00af00; text-decoration-color: #00af00\">1</span>, <span style=\"color: #00af00; text-decoration-color: #00af00\">18</span>, <span style=\"color: #00af00; text-decoration-color: #00af00\">64</span>)      │             <span style=\"color: #00af00; text-decoration-color: #00af00\">0</span> │\n",
              "├─────────────────────────────────┼────────────────────────┼───────────────┤\n",
              "│ flatten (<span style=\"color: #0087ff; text-decoration-color: #0087ff\">Flatten</span>)               │ (<span style=\"color: #00d7ff; text-decoration-color: #00d7ff\">None</span>, <span style=\"color: #00af00; text-decoration-color: #00af00\">1152</span>)           │             <span style=\"color: #00af00; text-decoration-color: #00af00\">0</span> │\n",
              "├─────────────────────────────────┼────────────────────────┼───────────────┤\n",
              "│ dense (<span style=\"color: #0087ff; text-decoration-color: #0087ff\">Dense</span>)                   │ (<span style=\"color: #00d7ff; text-decoration-color: #00d7ff\">None</span>, <span style=\"color: #00af00; text-decoration-color: #00af00\">100</span>)            │       <span style=\"color: #00af00; text-decoration-color: #00af00\">115,300</span> │\n",
              "├─────────────────────────────────┼────────────────────────┼───────────────┤\n",
              "│ dense_1 (<span style=\"color: #0087ff; text-decoration-color: #0087ff\">Dense</span>)                 │ (<span style=\"color: #00d7ff; text-decoration-color: #00d7ff\">None</span>, <span style=\"color: #00af00; text-decoration-color: #00af00\">50</span>)             │         <span style=\"color: #00af00; text-decoration-color: #00af00\">5,050</span> │\n",
              "├─────────────────────────────────┼────────────────────────┼───────────────┤\n",
              "│ dense_2 (<span style=\"color: #0087ff; text-decoration-color: #0087ff\">Dense</span>)                 │ (<span style=\"color: #00d7ff; text-decoration-color: #00d7ff\">None</span>, <span style=\"color: #00af00; text-decoration-color: #00af00\">10</span>)             │           <span style=\"color: #00af00; text-decoration-color: #00af00\">510</span> │\n",
              "├─────────────────────────────────┼────────────────────────┼───────────────┤\n",
              "│ dense_3 (<span style=\"color: #0087ff; text-decoration-color: #0087ff\">Dense</span>)                 │ (<span style=\"color: #00d7ff; text-decoration-color: #00d7ff\">None</span>, <span style=\"color: #00af00; text-decoration-color: #00af00\">1</span>)              │            <span style=\"color: #00af00; text-decoration-color: #00af00\">11</span> │\n",
              "└─────────────────────────────────┴────────────────────────┴───────────────┘\n",
              "</pre>\n"
            ],
            "text/plain": [
              "┏━━━━━━━━━━━━━━━━━━━━━━━━━━━━━━━━━┳━━━━━━━━━━━━━━━━━━━━━━━━┳━━━━━━━━━━━━━━━┓\n",
              "┃\u001b[1m \u001b[0m\u001b[1mLayer (type)                   \u001b[0m\u001b[1m \u001b[0m┃\u001b[1m \u001b[0m\u001b[1mOutput Shape          \u001b[0m\u001b[1m \u001b[0m┃\u001b[1m \u001b[0m\u001b[1m      Param #\u001b[0m\u001b[1m \u001b[0m┃\n",
              "┡━━━━━━━━━━━━━━━━━━━━━━━━━━━━━━━━━╇━━━━━━━━━━━━━━━━━━━━━━━━╇━━━━━━━━━━━━━━━┩\n",
              "│ conv2d (\u001b[38;5;33mConv2D\u001b[0m)                 │ (\u001b[38;5;45mNone\u001b[0m, \u001b[38;5;34m31\u001b[0m, \u001b[38;5;34m98\u001b[0m, \u001b[38;5;34m24\u001b[0m)     │         \u001b[38;5;34m2,424\u001b[0m │\n",
              "├─────────────────────────────────┼────────────────────────┼───────────────┤\n",
              "│ conv2d_1 (\u001b[38;5;33mConv2D\u001b[0m)               │ (\u001b[38;5;45mNone\u001b[0m, \u001b[38;5;34m14\u001b[0m, \u001b[38;5;34m47\u001b[0m, \u001b[38;5;34m36\u001b[0m)     │        \u001b[38;5;34m21,636\u001b[0m │\n",
              "├─────────────────────────────────┼────────────────────────┼───────────────┤\n",
              "│ conv2d_2 (\u001b[38;5;33mConv2D\u001b[0m)               │ (\u001b[38;5;45mNone\u001b[0m, \u001b[38;5;34m5\u001b[0m, \u001b[38;5;34m22\u001b[0m, \u001b[38;5;34m48\u001b[0m)      │        \u001b[38;5;34m43,248\u001b[0m │\n",
              "├─────────────────────────────────┼────────────────────────┼───────────────┤\n",
              "│ conv2d_3 (\u001b[38;5;33mConv2D\u001b[0m)               │ (\u001b[38;5;45mNone\u001b[0m, \u001b[38;5;34m3\u001b[0m, \u001b[38;5;34m20\u001b[0m, \u001b[38;5;34m64\u001b[0m)      │        \u001b[38;5;34m27,712\u001b[0m │\n",
              "├─────────────────────────────────┼────────────────────────┼───────────────┤\n",
              "│ conv2d_4 (\u001b[38;5;33mConv2D\u001b[0m)               │ (\u001b[38;5;45mNone\u001b[0m, \u001b[38;5;34m1\u001b[0m, \u001b[38;5;34m18\u001b[0m, \u001b[38;5;34m64\u001b[0m)      │        \u001b[38;5;34m36,928\u001b[0m │\n",
              "├─────────────────────────────────┼────────────────────────┼───────────────┤\n",
              "│ dropout (\u001b[38;5;33mDropout\u001b[0m)               │ (\u001b[38;5;45mNone\u001b[0m, \u001b[38;5;34m1\u001b[0m, \u001b[38;5;34m18\u001b[0m, \u001b[38;5;34m64\u001b[0m)      │             \u001b[38;5;34m0\u001b[0m │\n",
              "├─────────────────────────────────┼────────────────────────┼───────────────┤\n",
              "│ flatten (\u001b[38;5;33mFlatten\u001b[0m)               │ (\u001b[38;5;45mNone\u001b[0m, \u001b[38;5;34m1152\u001b[0m)           │             \u001b[38;5;34m0\u001b[0m │\n",
              "├─────────────────────────────────┼────────────────────────┼───────────────┤\n",
              "│ dense (\u001b[38;5;33mDense\u001b[0m)                   │ (\u001b[38;5;45mNone\u001b[0m, \u001b[38;5;34m100\u001b[0m)            │       \u001b[38;5;34m115,300\u001b[0m │\n",
              "├─────────────────────────────────┼────────────────────────┼───────────────┤\n",
              "│ dense_1 (\u001b[38;5;33mDense\u001b[0m)                 │ (\u001b[38;5;45mNone\u001b[0m, \u001b[38;5;34m50\u001b[0m)             │         \u001b[38;5;34m5,050\u001b[0m │\n",
              "├─────────────────────────────────┼────────────────────────┼───────────────┤\n",
              "│ dense_2 (\u001b[38;5;33mDense\u001b[0m)                 │ (\u001b[38;5;45mNone\u001b[0m, \u001b[38;5;34m10\u001b[0m)             │           \u001b[38;5;34m510\u001b[0m │\n",
              "├─────────────────────────────────┼────────────────────────┼───────────────┤\n",
              "│ dense_3 (\u001b[38;5;33mDense\u001b[0m)                 │ (\u001b[38;5;45mNone\u001b[0m, \u001b[38;5;34m1\u001b[0m)              │            \u001b[38;5;34m11\u001b[0m │\n",
              "└─────────────────────────────────┴────────────────────────┴───────────────┘\n"
            ]
          },
          "metadata": {},
          "output_type": "display_data"
        },
        {
          "data": {
            "text/html": [
              "<pre style=\"white-space:pre;overflow-x:auto;line-height:normal;font-family:Menlo,'DejaVu Sans Mono',consolas,'Courier New',monospace\"><span style=\"font-weight: bold\"> Total params: </span><span style=\"color: #00af00; text-decoration-color: #00af00\">252,819</span> (987.57 KB)\n",
              "</pre>\n"
            ],
            "text/plain": [
              "\u001b[1m Total params: \u001b[0m\u001b[38;5;34m252,819\u001b[0m (987.57 KB)\n"
            ]
          },
          "metadata": {},
          "output_type": "display_data"
        },
        {
          "data": {
            "text/html": [
              "<pre style=\"white-space:pre;overflow-x:auto;line-height:normal;font-family:Menlo,'DejaVu Sans Mono',consolas,'Courier New',monospace\"><span style=\"font-weight: bold\"> Trainable params: </span><span style=\"color: #00af00; text-decoration-color: #00af00\">252,819</span> (987.57 KB)\n",
              "</pre>\n"
            ],
            "text/plain": [
              "\u001b[1m Trainable params: \u001b[0m\u001b[38;5;34m252,819\u001b[0m (987.57 KB)\n"
            ]
          },
          "metadata": {},
          "output_type": "display_data"
        },
        {
          "data": {
            "text/html": [
              "<pre style=\"white-space:pre;overflow-x:auto;line-height:normal;font-family:Menlo,'DejaVu Sans Mono',consolas,'Courier New',monospace\"><span style=\"font-weight: bold\"> Non-trainable params: </span><span style=\"color: #00af00; text-decoration-color: #00af00\">0</span> (0.00 B)\n",
              "</pre>\n"
            ],
            "text/plain": [
              "\u001b[1m Non-trainable params: \u001b[0m\u001b[38;5;34m0\u001b[0m (0.00 B)\n"
            ]
          },
          "metadata": {},
          "output_type": "display_data"
        },
        {
          "name": "stdout",
          "output_type": "stream",
          "text": [
            "None\n"
          ]
        }
      ],
      "source": [
        "print(model.summary())"
      ]
    },
    {
      "cell_type": "markdown",
      "metadata": {},
      "source": [
        "Creamos una función de Early Stop para que el modelo se detanga si lleva más de 5 epoca sin lograr mejoras significativas sobre el data set de validación."
      ]
    },
    {
      "cell_type": "code",
      "execution_count": 14,
      "metadata": {
        "id": "_v-F3_RdqZh5"
      },
      "outputs": [],
      "source": [
        "from keras.callbacks import EarlyStopping\n",
        "\n",
        "early_stopping = EarlyStopping(monitor='val_loss', patience=5, restore_best_weights=True) #Se restauran los pesos del modelo al mejor resultado logrado sobre la data de validación"
      ]
    },
    {
      "cell_type": "markdown",
      "metadata": {},
      "source": [
        "Implementamos un Scaler sobre el ángulo de conducción, buscando que el modelo logre converger más rápidamente y evitar problemas de desvanecimiento del gradiente."
      ]
    },
    {
      "cell_type": "code",
      "execution_count": 15,
      "metadata": {},
      "outputs": [],
      "source": [
        "from sklearn.preprocessing import MinMaxScaler\n",
        "# Se entrena el scaler\n",
        "scaler = MinMaxScaler()\n",
        "y_train_scaled = scaler.fit_transform(y_train.reshape(-1, 1))\n",
        "# Se utiliza el scaler para ajustar también los ángulos de validación\n",
        "y_valid_scaled = scaler.transform(y_valid.reshape(-1, 1))"
      ]
    },
    {
      "cell_type": "markdown",
      "metadata": {},
      "source": [
        "### Entrenamiento de  la red neuronal."
      ]
    },
    {
      "cell_type": "code",
      "execution_count": 16,
      "metadata": {
        "colab": {
          "base_uri": "https://localhost:8080/"
        },
        "id": "xvl3OWrFxcKt",
        "outputId": "47fb9b6d-c887-4578-e218-cfa6224c9c25"
      },
      "outputs": [
        {
          "name": "stdout",
          "output_type": "stream",
          "text": [
            "Epoch 1/30\n",
            "\u001b[1m25/25\u001b[0m \u001b[32m━━━━━━━━━━━━━━━━━━━━\u001b[0m\u001b[37m\u001b[0m \u001b[1m33s\u001b[0m 1s/step - loss: 6.1091 - val_loss: 0.1587\n",
            "Epoch 2/30\n",
            "\u001b[1m25/25\u001b[0m \u001b[32m━━━━━━━━━━━━━━━━━━━━\u001b[0m\u001b[37m\u001b[0m \u001b[1m32s\u001b[0m 1s/step - loss: 0.1335 - val_loss: 0.0194\n",
            "Epoch 3/30\n",
            "\u001b[1m25/25\u001b[0m \u001b[32m━━━━━━━━━━━━━━━━━━━━\u001b[0m\u001b[37m\u001b[0m \u001b[1m31s\u001b[0m 1s/step - loss: 0.0345 - val_loss: 0.0181\n",
            "Epoch 4/30\n",
            "\u001b[1m25/25\u001b[0m \u001b[32m━━━━━━━━━━━━━━━━━━━━\u001b[0m\u001b[37m\u001b[0m \u001b[1m31s\u001b[0m 1s/step - loss: 0.0266 - val_loss: 0.0151\n",
            "Epoch 5/30\n",
            "\u001b[1m25/25\u001b[0m \u001b[32m━━━━━━━━━━━━━━━━━━━━\u001b[0m\u001b[37m\u001b[0m \u001b[1m31s\u001b[0m 1s/step - loss: 0.0245 - val_loss: 0.0160\n",
            "Epoch 6/30\n",
            "\u001b[1m25/25\u001b[0m \u001b[32m━━━━━━━━━━━━━━━━━━━━\u001b[0m\u001b[37m\u001b[0m \u001b[1m32s\u001b[0m 1s/step - loss: 0.0223 - val_loss: 0.0149\n",
            "Epoch 7/30\n",
            "\u001b[1m10/25\u001b[0m \u001b[32m━━━━━━━━\u001b[0m\u001b[37m━━━━━━━━━━━━\u001b[0m \u001b[1m19s\u001b[0m 1s/step - loss: 0.0209"
          ]
        }
      ],
      "source": [
        "history = model.fit(batch_generator_wb(list_images_train, y_train_scaled, int(len(y_train_scaled)/5), False), ## Usamos el generador para entrenar con el 10% de los datos en cada época\n",
        "                              steps_per_epoch=25, ## Se realizan 60 ajustes de gradiente por época, esto se cálculo iterativamente\n",
        "                              epochs=30, ## Entrenamos durante 20 épocas debido a capacidad computacional\n",
        "                              validation_data=batch_generator_wb(list_images_valid, y_valid_scaled, int(len(y_valid_scaled)/2), False), ## Usamos el generador para evaluar con el 50% de los datos de valdiación en cada época\n",
        "                              validation_steps=1, # Evaluamos en 5 pasos\n",
        "                              verbose=1,\n",
        "                              shuffle = 1, ## Realiamos shuffle para garantizar que las imágenes no se generen en orden\n",
        "                    callbacks=[early_stopping])"
      ]
    },
    {
      "cell_type": "markdown",
      "metadata": {},
      "source": [
        "### Evaluación del modelo"
      ]
    },
    {
      "cell_type": "markdown",
      "metadata": {},
      "source": [
        "A continuación graficamos la función de pérdida a lo largo de las épocas, para evaluar si el entrenamientno se relizó correctamente."
      ]
    },
    {
      "cell_type": "code",
      "execution_count": 17,
      "metadata": {
        "colab": {
          "base_uri": "https://localhost:8080/",
          "height": 489
        },
        "id": "WUyRpS8cxepI",
        "outputId": "bd68d032-9742-405b-c184-5c8e408c44b3"
      },
      "outputs": [
        {
          "data": {
            "text/plain": [
              "Text(0.5, 0, 'Epoch')"
            ]
          },
          "execution_count": 17,
          "metadata": {},
          "output_type": "execute_result"
        },
        {
          "data": {
            "image/png": "[encoded data removed]",
            "text/plain": [
              "<Figure size 640x480 with 1 Axes>"
            ]
          },
          "metadata": {},
          "output_type": "display_data"
        }
      ],
      "source": [
        "plt.plot(history.history['loss'][5:]) ## Dejamos las primeras 5 épocas por fuera de la gráfica dado que normalmente presentan valores muy altos que impiden analizar correctamente la gráfica\n",
        "plt.plot(history.history['val_loss'][5:])\n",
        "plt.legend(['training', 'validation'])\n",
        "plt.title('Loss')\n",
        "plt.xlabel('Epoch')"
      ]
    },
    {
      "cell_type": "markdown",
      "metadata": {},
      "source": [
        "Analizando la gráfica anterior, podemos concluir que el entrenamiento del modelo fue correcto, dado que la curva de validación y de entrenamiento son similares y cercancas, lo cual quiere decir que no hay presencia de sobre ajuste y la pérdida logra llegar a un mínimo al final del proceso. ( No se corrieron más épocas debido al largo tiempo de entrenamiento)"
      ]
    },
    {
      "cell_type": "markdown",
      "metadata": {},
      "source": [
        "### Exportación del modelo "
      ]
    },
    {
      "cell_type": "markdown",
      "metadata": {},
      "source": [
        "Se exporta el modelo"
      ]
    },
    {
      "cell_type": "code",
      "execution_count": 20,
      "metadata": {
        "colab": {
          "base_uri": "https://localhost:8080/"
        },
        "id": "15_J0M0l9odF",
        "outputId": "9ef80059-24cf-44a8-de52-b16a8e8803b7"
      },
      "outputs": [
        {
          "name": "stderr",
          "output_type": "stream",
          "text": [
            "WARNING:absl:You are saving your model as an HDF5 file via `model.save()` or `keras.saving.save_model(model)`. This file format is considered legacy. We recommend using instead the native Keras format, e.g. `model.save('my_model.keras')` or `keras.saving.save_model(model, 'my_model.keras')`. \n"
          ]
        }
      ],
      "source": [
        "model.save('model_gray.h5')"
      ]
    },
    {
      "cell_type": "markdown",
      "metadata": {},
      "source": [
        "Se exporta el escaler"
      ]
    },
    {
      "cell_type": "code",
      "execution_count": 21,
      "metadata": {},
      "outputs": [
        {
          "data": {
            "text/plain": [
              "['scaler_gray.pkl']"
            ]
          },
          "execution_count": 21,
          "metadata": {},
          "output_type": "execute_result"
        }
      ],
      "source": [
        "import joblib\n",
        "joblib.dump(scaler, 'scaler_gray.pkl')"
      ]
    }
  ],
  "metadata": {
    "accelerator": "GPU",
    "colab": {
      "gpuType": "T4",
      "provenance": []
    },
    "kernelspec": {
      "display_name": "Python 3",
      "name": "python3"
    },
    "language_info": {
      "codemirror_mode": {
        "name": "ipython",
        "version": 3
      },
      "file_extension": ".py",
      "mimetype": "text/x-python",
      "name": "python",
      "nbconvert_exporter": "python",
      "pygments_lexer": "ipython3",
      "version": "3.9.5"
    }
  },
  "nbformat": 4,
  "nbformat_minor": 0
}
